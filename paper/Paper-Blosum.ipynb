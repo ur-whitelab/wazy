{
 "cells": [
  {
   "cell_type": "code",
   "execution_count": null,
   "id": "9bb0fa2b",
   "metadata": {},
   "outputs": [],
   "source": [
    "import numpy as np\n",
    "from tester import test"
   ]
  },
  {
   "cell_type": "code",
   "execution_count": null,
   "id": "769cd91e",
   "metadata": {},
   "outputs": [],
   "source": [
    "AA_list = [\n",
    "    \"A\",\n",
    "    \"R\",\n",
    "    \"N\",\n",
    "    \"D\",\n",
    "    \"C\",\n",
    "    \"Q\",\n",
    "    \"E\",\n",
    "    \"G\",\n",
    "    \"H\",\n",
    "    \"I\",\n",
    "    \"L\",\n",
    "    \"K\",\n",
    "    \"M\",\n",
    "    \"F\",\n",
    "    \"P\",\n",
    "    \"S\",\n",
    "    \"T\",\n",
    "    \"W\",\n",
    "    \"Y\",\n",
    "    \"V\",\n",
    "    \"B\",\n",
    "    \"Z\",\n",
    "    \"X\",\n",
    "    \"*\",\n",
    "]\n",
    "blosum62 = np.loadtxt(\"blosum62.txt\", dtype=\"i\", delimiter=\" \")\n",
    "min62 = np.min(blosum62)\n",
    "blosum62 = blosum62 - min62\n",
    "avg62 = np.sum(blosum62) / len(blosum62) ** 2\n",
    "sum62 = 0.0\n",
    "for row in blosum62:\n",
    "    for aa in row:\n",
    "        sum62 += (aa - avg62) ** 2\n",
    "std62 = np.sqrt(sum62 / len(blosum62) ** 2)\n",
    "\n",
    "\n",
    "def blosum(seq, target=\"TARGETPEPTIDE\"):\n",
    "    target = list(target)\n",
    "    seq = list(seq)\n",
    "    score = 0.0\n",
    "    for i in range(len(target)):\n",
    "        idxt = AA_list.index(target[i])\n",
    "        idxs = AA_list.index(seq[i])\n",
    "        score += blosum62[idxt][idxs] / std62\n",
    "    return score / len(target)"
   ]
  },
  {
   "cell_type": "code",
   "execution_count": null,
   "id": "4cac2a4d",
   "metadata": {},
   "outputs": [],
   "source": [
    "test(blosum, 20, 4, len(\"TARGETPEPTIDE\"), pretrain=False)"
   ]
  },
  {
   "cell_type": "code",
   "execution_count": null,
   "id": "ec5aa23c",
   "metadata": {},
   "outputs": [],
   "source": []
  }
 ],
 "metadata": {
  "kernelspec": {
   "display_name": "Python 3 (ipykernel)",
   "language": "python",
   "name": "python3"
  },
  "language_info": {
   "codemirror_mode": {
    "name": "ipython",
    "version": 3
   },
   "file_extension": ".py",
   "mimetype": "text/x-python",
   "name": "python",
   "nbconvert_exporter": "python",
   "pygments_lexer": "ipython3",
   "version": "3.9.6"
  }
 },
 "nbformat": 4,
 "nbformat_minor": 5
}
