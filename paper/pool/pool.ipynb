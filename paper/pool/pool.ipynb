{
 "cells": [
  {
   "cell_type": "code",
   "execution_count": 1,
   "id": "56c50ae0-55eb-42cc-9db0-44e41f813d72",
   "metadata": {},
   "outputs": [],
   "source": [
    "import wazy\n",
    "import jax\n",
    "from jax_unirep import get_reps\n",
    "import csv"
   ]
  },
  {
   "cell_type": "code",
   "execution_count": 5,
   "id": "82482a42-8b11-4d2d-a52c-fed2a2893a8a",
   "metadata": {},
   "outputs": [],
   "source": [
    "pep_pool = []\n",
    "labels = []\n",
    "with open('../pool_pep.csv') as csvfile:\n",
    "    spamreader = csv.reader(csvfile)\n",
    "    for row in spamreader:\n",
    "        try:\n",
    "            pep_pool.append(row[1])\n",
    "            labels.append(float(row[2]))\n",
    "        except:\n",
    "            continue"
   ]
  },
  {
   "cell_type": "code",
   "execution_count": 7,
   "id": "e6bedafd-4c73-4309-9c14-cc66e45e9500",
   "metadata": {},
   "outputs": [
    {
     "data": {
      "text/plain": [
       "10503"
      ]
     },
     "execution_count": 7,
     "metadata": {},
     "output_type": "execute_result"
    }
   ],
   "source": [
    "len(labels)"
   ]
  },
  {
   "cell_type": "code",
   "execution_count": null,
   "id": "c7d3a225-b950-4dd7-ba08-155b1f3b062c",
   "metadata": {},
   "outputs": [
    {
     "name": "stderr",
     "output_type": "stream",
     "text": [
      "/scratch/zyang43/myenvs/envs/wazy/lib/python3.9/site-packages/torch/_utils.py:776: UserWarning: TypedStorage is deprecated. It will be removed in the future and UntypedStorage will be the only storage class. This should only matter to you if you are using storages directly.  To access UntypedStorage directly, use tensor.untyped_storage() instead of tensor.storage()\n",
      "  return self.fget.__get__(instance, owner)()\n"
     ]
    }
   ],
   "source": [
    "key = jax.random.PRNGKey(0)\n",
    "boa = wazy.BOAlgorithm()\n"
   ]
  },
  {
   "cell_type": "code",
   "execution_count": null,
   "id": "543e4cea-5118-4ca9-bf5c-341bf6936f73",
   "metadata": {},
   "outputs": [],
   "source": []
  },
  {
   "cell_type": "code",
   "execution_count": 3,
   "id": "6822f5f4-7e9f-4ca0-a202-0b1cb7cfc49f",
   "metadata": {},
   "outputs": [],
   "source": [
    "boa.tell(key, \"GGGG\", 0)\n",
    "boa.tell(key, \"GAHK\", 1)"
   ]
  },
  {
   "cell_type": "code",
   "execution_count": null,
   "id": "42dffc63-5ea7-42db-ae95-e1d6e7f2d13b",
   "metadata": {},
   "outputs": [],
   "source": []
  },
  {
   "cell_type": "code",
   "execution_count": 4,
   "id": "b18cfe27-30c0-452e-af09-c54b4bb6fdac",
   "metadata": {},
   "outputs": [
    {
     "name": "stdout",
     "output_type": "stream",
     "text": [
      "[[ 0.15141222  0.11519983 -0.13136816 ...  0.22554392  0.12928143\n",
      "   0.14471759]\n",
      " [ 0.2914654   0.09609472 -0.11496862 ...  0.10789689  0.15311225\n",
      "   0.19321585]\n",
      " [ 0.15253036  0.08127505 -0.10846452 ...  0.3788588   0.15052456\n",
      "   0.24617858]]\n"
     ]
    }
   ],
   "source": [
    "pool = ['AAA', 'KKK', 'GGG']\n",
    "rep_pool = get_reps(pool)[0]\n",
    "print(rep_pool)"
   ]
  },
  {
   "cell_type": "code",
   "execution_count": 5,
   "id": "a4fd92f4-b9e5-42c2-bd59-135ebd82a9e6",
   "metadata": {},
   "outputs": [
    {
     "name": "stderr",
     "output_type": "stream",
     "text": [
      "/scratch/zyang43/myenvs/envs/wazy/lib/python3.9/site-packages/haiku/_src/initializers.py:126: UserWarning: Explicitly requested dtype float64  is not available, and will be truncated to dtype float32. To enable more dtypes, set the jax_enable_x64 configuration option or the JAX_ENABLE_X64 shell environment variable. See https://github.com/google/jax#current-gotchas for more.\n",
      "  unscaled = jax.random.truncated_normal(\n",
      "/scratch/zyang43/myenvs/envs/wazy/lib/python3.9/site-packages/haiku/_src/base.py:682: UserWarning: Explicitly requested dtype float64 requested in zeros is not available, and will be truncated to dtype float32. To enable more dtypes, set the jax_enable_x64 configuration option or the JAX_ENABLE_X64 shell environment variable. See https://github.com/google/jax#current-gotchas for more.\n",
      "  param = init(shape, dtype)\n"
     ]
    },
    {
     "data": {
      "text/plain": [
       "(1,\n",
       " (Array(1.0824174, dtype=float32),\n",
       "  Array(0.02501893, dtype=float32),\n",
       "  Array(0.00066987, dtype=float32)))"
      ]
     },
     "execution_count": 5,
     "metadata": {},
     "output_type": "execute_result"
    }
   ],
   "source": [
    "boa.pool_ask(key, rep_pool)"
   ]
  },
  {
   "cell_type": "code",
   "execution_count": null,
   "id": "bf1235fc-04ae-46b2-9aea-141e58e179f3",
   "metadata": {},
   "outputs": [],
   "source": []
  }
 ],
 "metadata": {
  "kernelspec": {
   "display_name": "wazy",
   "language": "python",
   "name": "wazy"
  },
  "language_info": {
   "codemirror_mode": {
    "name": "ipython",
    "version": 3
   },
   "file_extension": ".py",
   "mimetype": "text/x-python",
   "name": "python",
   "nbconvert_exporter": "python",
   "pygments_lexer": "ipython3",
   "version": "3.9.18"
  }
 },
 "nbformat": 4,
 "nbformat_minor": 5
}
