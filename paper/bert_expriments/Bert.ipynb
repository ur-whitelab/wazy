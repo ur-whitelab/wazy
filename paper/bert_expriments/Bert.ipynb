{
 "cells": [
  {
   "cell_type": "code",
   "execution_count": 1,
   "id": "7aeceb7b-1428-44c5-91f7-506daaea9f4b",
   "metadata": {},
   "outputs": [
    {
     "name": "stderr",
     "output_type": "stream",
     "text": [
      "An NVIDIA GPU may be present on this machine, but a CUDA-enabled jaxlib is not installed. Falling back to cpu.\n"
     ]
    }
   ],
   "source": [
    "import wazy\n",
    "import jax"
   ]
  },
  {
   "cell_type": "code",
   "execution_count": 2,
   "id": "7fecd996-b4cf-4d90-8987-8cff413ac39a",
   "metadata": {},
   "outputs": [
    {
     "name": "stderr",
     "output_type": "stream",
     "text": [
      "/scratch/zyang43/myenvs/envs/wazy/lib/python3.9/site-packages/torch/_utils.py:776: UserWarning: TypedStorage is deprecated. It will be removed in the future and UntypedStorage will be the only storage class. This should only matter to you if you are using storages directly.  To access UntypedStorage directly, use tensor.untyped_storage() instead of tensor.storage()\n",
      "  return self.fget.__get__(instance, owner)()\n",
      "Some weights of the model checkpoint at Rostlab/prot_bert were not used when initializing FlaxBertModel: {('cls', 'predictions', 'decoder', 'kernel'), ('cls', 'seq_relationship', 'bias'), ('cls', 'predictions', 'decoder', 'bias'), ('cls', 'predictions', 'transform', 'LayerNorm', 'bias'), ('cls', 'predictions', 'bias'), ('cls', 'predictions', 'transform', 'dense', 'kernel'), ('cls', 'seq_relationship', 'kernel'), ('cls', 'predictions', 'transform', 'LayerNorm', 'kernel'), ('cls', 'predictions', 'transform', 'dense', 'bias')}\n",
      "- This IS expected if you are initializing FlaxBertModel from the checkpoint of a model trained on another task or with another architecture (e.g. initializing a BertForSequenceClassification model from a BertForPreTraining model).\n",
      "- This IS NOT expected if you are initializing FlaxBertModel from the checkpoint of a model that you expect to be exactly identical (initializing a BertForSequenceClassification model from a BertForSequenceClassification model).\n"
     ]
    }
   ],
   "source": [
    "key = jax.random.PRNGKey(0)\n",
    "boa = wazy.BOAlgorithm()"
   ]
  },
  {
   "cell_type": "code",
   "execution_count": 3,
   "id": "fddb8b38-b2ba-4c28-8612-5f4519a8decb",
   "metadata": {},
   "outputs": [
    {
     "name": "stderr",
     "output_type": "stream",
     "text": [
      "Some weights of the model checkpoint at Rostlab/prot_bert were not used when initializing FlaxBertModel: {('cls', 'predictions', 'decoder', 'kernel'), ('cls', 'seq_relationship', 'bias'), ('cls', 'predictions', 'decoder', 'bias'), ('cls', 'predictions', 'transform', 'LayerNorm', 'bias'), ('cls', 'predictions', 'bias'), ('cls', 'predictions', 'transform', 'dense', 'kernel'), ('cls', 'seq_relationship', 'kernel'), ('cls', 'predictions', 'transform', 'LayerNorm', 'kernel'), ('cls', 'predictions', 'transform', 'dense', 'bias')}\n",
      "- This IS expected if you are initializing FlaxBertModel from the checkpoint of a model trained on another task or with another architecture (e.g. initializing a BertForSequenceClassification model from a BertForPreTraining model).\n",
      "- This IS NOT expected if you are initializing FlaxBertModel from the checkpoint of a model that you expect to be exactly identical (initializing a BertForSequenceClassification model from a BertForSequenceClassification model).\n"
     ]
    }
   ],
   "source": [
    "boa.tell(key, \"GGGG\", 0)\n",
    "boa.tell(key, \"GAHK\", 1)\n",
    "boa.tell(key, \"DAAE\", 2)\n",
    "boa.tell(key, \"DAAA\", 3)\n"
   ]
  },
  {
   "cell_type": "code",
   "execution_count": 4,
   "id": "defd26da-5a86-405a-a9b6-072530daca13",
   "metadata": {},
   "outputs": [
    {
     "name": "stderr",
     "output_type": "stream",
     "text": [
      "/scratch/zyang43/myenvs/envs/wazy/lib/python3.9/site-packages/haiku/_src/initializers.py:126: UserWarning: Explicitly requested dtype float64  is not available, and will be truncated to dtype float32. To enable more dtypes, set the jax_enable_x64 configuration option or the JAX_ENABLE_X64 shell environment variable. See https://github.com/google/jax#current-gotchas for more.\n",
      "  unscaled = jax.random.truncated_normal(\n",
      "/scratch/zyang43/myenvs/envs/wazy/lib/python3.9/site-packages/haiku/_src/base.py:682: UserWarning: Explicitly requested dtype float64 requested in zeros is not available, and will be truncated to dtype float32. To enable more dtypes, set the jax_enable_x64 configuration option or the JAX_ENABLE_X64 shell environment variable. See https://github.com/google/jax#current-gotchas for more.\n",
      "  param = init(shape, dtype)\n"
     ]
    },
    {
     "data": {
      "text/plain": [
       "(Array(1.7889159, dtype=float32),\n",
       " Array(1.1838593, dtype=float32),\n",
       " Array(0.0289781, dtype=float32))"
      ]
     },
     "execution_count": 4,
     "metadata": {},
     "output_type": "execute_result"
    }
   ],
   "source": [
    "boa.predict(key, \"LPAH\")"
   ]
  },
  {
   "cell_type": "code",
   "execution_count": 5,
   "id": "f46a1027-7d5f-4c93-825c-7ec4a13c44f5",
   "metadata": {},
   "outputs": [
    {
     "name": "stdout",
     "output_type": "stream",
     "text": [
      "(1, 6)\n",
      "(1, 6, 30)\n",
      "(1, 6)\n",
      "(1, 6, 30)\n",
      "(1, 6)\n",
      "(1, 6, 30)\n"
     ]
    },
    {
     "name": "stderr",
     "output_type": "stream",
     "text": [
      "2023-12-29 17:02:01.138812: E external/xla/xla/service/slow_operation_alarm.cc:65] \n",
      "********************************\n",
      "[Compiling module jit_step] Very slow compile? If you want to file a bug, run with envvar XLA_FLAGS=--xla_dump_to=/tmp/foo and attach the results.\n",
      "********************************\n",
      "2023-12-29 17:02:37.138697: E external/xla/xla/service/slow_operation_alarm.cc:133] The operation took 2m36.000082177s\n",
      "\n",
      "********************************\n",
      "[Compiling module jit_step] Very slow compile? If you want to file a bug, run with envvar XLA_FLAGS=--xla_dump_to=/tmp/foo and attach the results.\n",
      "********************************\n"
     ]
    },
    {
     "data": {
      "text/plain": [
       "('DRLF', Array(-2.0418293, dtype=float32))"
      ]
     },
     "execution_count": 5,
     "metadata": {},
     "output_type": "execute_result"
    }
   ],
   "source": [
    "boa.ask(key)"
   ]
  },
  {
   "cell_type": "code",
   "execution_count": null,
   "id": "19a453fd-58d2-4963-bd0b-46f7b79dd5b7",
   "metadata": {},
   "outputs": [],
   "source": []
  }
 ],
 "metadata": {
  "kernelspec": {
   "display_name": "wazy",
   "language": "python",
   "name": "wazy"
  },
  "language_info": {
   "codemirror_mode": {
    "name": "ipython",
    "version": 3
   },
   "file_extension": ".py",
   "mimetype": "text/x-python",
   "name": "python",
   "nbconvert_exporter": "python",
   "pygments_lexer": "ipython3",
   "version": "3.9.18"
  }
 },
 "nbformat": 4,
 "nbformat_minor": 5
}
