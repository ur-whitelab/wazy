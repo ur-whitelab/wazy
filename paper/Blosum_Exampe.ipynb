{
 "cells": [
  {
   "cell_type": "code",
   "execution_count": null,
   "id": "9bb0fa2b",
   "metadata": {},
   "outputs": [],
   "source": [
    "import numpy as np\n",
    "import matplotlib.pyplot as plt\n",
    "import jax\n",
    "import jax.numpy as jnp\n",
    "import functools\n",
    "import pickle\n",
    "from operator import add\n",
    "import matplotlib as mpl\n",
    "from wazy.utils import *\n",
    "from wazy.mlp import *\n",
    "from jax_unirep import get_reps\n",
    "import wazy\n",
    "import os"
   ]
  },
  {
   "cell_type": "code",
   "execution_count": null,
   "id": "769cd91e",
   "metadata": {},
   "outputs": [],
   "source": [
    "AA_list = ['A','R','N','D','C','Q','E','G','H','I','L','K','M','F','P','S','T','W','Y','V','B','Z','X','*']\n",
    "blosum62 = np.loadtxt(\"blosum62.txt\", dtype='i', delimiter=' ')\n",
    "min62 = jnp.min(blosum62)\n",
    "blosum62 = blosum62 - min62\n",
    "avg62 = jnp.sum(blosum62)/24/24\n",
    "#(blosum62 - jnp.min(blosum62)) / (jnp.max(blosum62) - jnp.min(blosum62))\n",
    "sum62 = 0.\n",
    "for row in blosum62:\n",
    "    for aa in row:\n",
    "        sum62 += (aa-avg62)**2\n",
    "std62 = jnp.sqrt(sum62 / 24/24)\n",
    "def blosum(seq1, seq2):\n",
    "    seqlist1 = list(seq1)\n",
    "    seqlist2 = list(seq2)\n",
    "    score = 0.\n",
    "    for i in range(len(seqlist1)):\n",
    "        idx1 = AA_list.index(seqlist1[i])\n",
    "        idx2 = AA_list.index(seqlist2[i])\n",
    "        score += blosum62[idx1][idx2]/std62\n",
    "        #jax.nn.sigmoid(score/len(seqlist1))\n",
    "    return score/len(seqlist1)"
   ]
  },
  {
   "cell_type": "code",
   "execution_count": null,
   "id": "4cac2a4d",
   "metadata": {},
   "outputs": [],
   "source": [
    "target_seq = 'TARGETPEPTIDE'\n",
    "L = len(target_seq)\n",
    "N = 5\n",
    "repeats = 1\n",
    "key = jax.random.PRNGKey(0)\n",
    "print(blosum(target_seq, 'G' * L))"
   ]
  },
  {
   "cell_type": "code",
   "execution_count": null,
   "id": "cdf420f2",
   "metadata": {},
   "outputs": [],
   "source": [
    "boa = wazy.MCMCAlgorithm(L)\n",
    "\n",
    "start = 'G' * L\n",
    "rand_results = [0 for i in range(N)]\n",
    "for r in range(repeats):\n",
    "    boa.tell(key, start, blosum(target_seq, start))\n",
    "    best = 0\n",
    "\n",
    "    for i in range(N):\n",
    "        s = ''.join(np.random.choice(AA_list[:20], size=(L,)))\n",
    "        y = blosum(s, target_seq)\n",
    "        best = max(y, best)\n",
    "        if best == y:\n",
    "            print(i, best)\n",
    "        rand_results[i] += y\n",
    "rand_results = [r / repeats for r in rand_results]"
   ]
  },
  {
   "cell_type": "code",
   "execution_count": null,
   "id": "c45cf8f4",
   "metadata": {
    "scrolled": false
   },
   "outputs": [],
   "source": [
    "boa = wazy.MCMCAlgorithm(L)\n",
    "\n",
    "start = 'G' * L\n",
    "mcmc_results = [0 for i in range(N)]\n",
    "for r in range(repeats):\n",
    "    boa.tell(key, start, blosum(target_seq, start))\n",
    "    best = 0\n",
    "\n",
    "    for i in range(N):\n",
    "        key,_ = jax.random.split(key)\n",
    "        s, a = boa.ask(key)\n",
    "        y = blosum(s, target_seq)\n",
    "        best = max(y, best)\n",
    "        boa.tell(key, s, y)\n",
    "        if best == y:\n",
    "            print(i, best)\n",
    "        mcmc_results[i] += y\n",
    "mcmc_results = [r / repeats for r in mcmc_results]"
   ]
  },
  {
   "cell_type": "code",
   "execution_count": null,
   "id": "55a1f53e",
   "metadata": {},
   "outputs": [],
   "source": [
    "boa = wazy.BOAlgorithm(model_config=wazy.EnsembleBlockConfig(pretrained=True), \n",
    "                       alg_config=wazy.AlgConfig())\n",
    "\n",
    "start = 'R' * L\n",
    "pre_results = [0 for i in range(N)]\n",
    "for r in range(repeats):\n",
    "    boa.tell(key, start, blosum(target_seq, start))\n",
    "    best = 0\n",
    "    for i in range(N):\n",
    "        key,_ = jax.random.split(key)\n",
    "        s, a = boa.ask(key)\n",
    "        yhat, std, _ = boa.predict(key, s)\n",
    "        y = blosum(s, target_seq)\n",
    "        best = max(y, best)\n",
    "        boa.tell(key, s, y)\n",
    "        print(i, s, yhat, std, y, best)\n",
    "        pre_results[i] += y\n",
    "pre_results = [r / repeats for r in pre_results]"
   ]
  },
  {
   "cell_type": "code",
   "execution_count": null,
   "id": "9ac51749",
   "metadata": {
    "scrolled": false
   },
   "outputs": [],
   "source": [
    "boa = wazy.BOAlgorithm(model_config=wazy.EnsembleBlockConfig(pretrained=False), \n",
    "                       alg_config=wazy.AlgConfig())\n",
    "\n",
    "start = 'G' * L\n",
    "ohc_results = [0 for i in range(N)]\n",
    "for r in range(repeats):\n",
    "    boa.tell(key, start, blosum(target_seq, start))\n",
    "    best = 0\n",
    "    for i in range(N):\n",
    "        key,_ = jax.random.split(key)\n",
    "        s, a = boa.ask(key)\n",
    "        yhat, std, _ = boa.predict(key, s)\n",
    "        y = blosum(s, target_seq)\n",
    "        best = max(y, best)\n",
    "        boa.tell(key, s, y)\n",
    "        print(i, s, yhat, std, y, best)\n",
    "        ohc_results[i] += y\n",
    "ohc_results = [r / repeats for r in ohc_results]"
   ]
  },
  {
   "cell_type": "code",
   "execution_count": null,
   "id": "199b9992",
   "metadata": {
    "scrolled": true
   },
   "outputs": [],
   "source": [
    "boa = wazy.BOAlgorithm(model_config=wazy.EnsembleBlockConfig(pretrained=False), \n",
    "                       alg_config=wazy.AlgConfig())\n",
    "\n",
    "start = 'G' * L\n",
    "ohc_g_results = [0 for i in range(N)]\n",
    "for r in range(repeats):\n",
    "    boa.tell(key, start, blosum(target_seq, start))\n",
    "    best = 0\n",
    "    for i in range(N):\n",
    "        key,_ = jax.random.split(key)\n",
    "        s, a = boa.ask(key, aq_fxn='max')\n",
    "        yhat, std, _ = boa.predict(key, s)\n",
    "        y = blosum(s, target_seq)\n",
    "        best = max(y, best)\n",
    "        boa.tell(key, s, y)\n",
    "        print(i, s, yhat, std, y, best)\n",
    "        ohc_g_results[i] += y\n",
    "ohc_g_results = [r / repeats for r in ohc_g_results]"
   ]
  },
  {
   "cell_type": "code",
   "execution_count": null,
   "id": "ac286c94",
   "metadata": {},
   "outputs": [],
   "source": [
    "plt.plot(ohc_g_results, label='OH Greedy')\n",
    "plt.plot(ohc_results, label='OH')\n",
    "plt.plot(mcmc_results, label='MCMC')\n",
    "plt.plot(rand_results, label='Random')\n",
    "plt.legend()\n",
    "plt.show()"
   ]
  },
  {
   "cell_type": "code",
   "execution_count": null,
   "id": "e711763e",
   "metadata": {},
   "outputs": [],
   "source": [
    "def curbest(x):\n",
    "    return [np.max(x[:i]) for i in range(1, len(x) + 1)]\n",
    "plt.plot(curbest(ohc_g_results), label='OH Greedy')\n",
    "plt.plot(curbest(ohc_results), label='OH')\n",
    "plt.plot(curbest(mcmc_results), label='MCMC')\n",
    "plt.plot(curbest(rand_results), label='Random')\n",
    "plt.legend()\n",
    "plt.show()"
   ]
  },
  {
   "cell_type": "code",
   "execution_count": null,
   "id": "757c7f54",
   "metadata": {},
   "outputs": [],
   "source": []
  }
 ],
 "metadata": {
  "kernelspec": {
   "display_name": "Python 3 (ipykernel)",
   "language": "python",
   "name": "python3"
  },
  "language_info": {
   "codemirror_mode": {
    "name": "ipython",
    "version": 3
   },
   "file_extension": ".py",
   "mimetype": "text/x-python",
   "name": "python",
   "nbconvert_exporter": "python",
   "pygments_lexer": "ipython3",
   "version": "3.9.13"
  }
 },
 "nbformat": 4,
 "nbformat_minor": 5
}
