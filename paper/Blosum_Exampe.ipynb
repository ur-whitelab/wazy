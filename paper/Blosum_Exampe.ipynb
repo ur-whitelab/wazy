{
 "cells": [
  {
   "cell_type": "code",
   "execution_count": 1,
   "id": "9bb0fa2b",
   "metadata": {},
   "outputs": [
    {
     "name": "stderr",
     "output_type": "stream",
     "text": [
      "/Users/whitead/miniforge3/envs/alp/lib/python3.9/site-packages/jax/_src/lib/__init__.py:34: UserWarning: JAX on Mac ARM machines is experimental and minimally tested. Please see https://github.com/google/jax/issues/5501 in the event of problems.\n",
      "  warnings.warn(\"JAX on Mac ARM machines is experimental and minimally tested. \"\n",
      "/Users/whitead/miniforge3/envs/alp/lib/python3.9/site-packages/jax/experimental/stax.py:28: FutureWarning: jax.experimental.stax is deprecated, import jax.example_libraries.stax instead\n",
      "  warnings.warn('jax.experimental.stax is deprecated, '\n",
      "WARNING:absl:No GPU/TPU found, falling back to CPU. (Set TF_CPP_MIN_LOG_LEVEL=0 and rerun for more info.)\n",
      "/Users/whitead/miniforge3/envs/alp/lib/python3.9/site-packages/jax/experimental/optimizers.py:28: FutureWarning: jax.experimental.optimizers is deprecated, import jax.example_libraries.optimizers instead\n",
      "  warnings.warn('jax.experimental.optimizers is deprecated, '\n"
     ]
    }
   ],
   "source": [
    "import numpy as np\n",
    "import matplotlib.pyplot as plt\n",
    "import jax\n",
    "import jax.numpy as jnp\n",
    "import functools\n",
    "import pickle\n",
    "from operator import add\n",
    "import matplotlib as mpl\n",
    "from wazy.utils import *\n",
    "from wazy.mlp import *\n",
    "from jax_unirep import get_reps\n",
    "import wazy\n",
    "import os"
   ]
  },
  {
   "cell_type": "code",
   "execution_count": 2,
   "id": "769cd91e",
   "metadata": {},
   "outputs": [],
   "source": [
    "AA_list = ['A','R','N','D','C','Q','E','G','H','I','L','K','M','F','P','S','T','W','Y','V','B','Z','X','*']\n",
    "blosum62 = np.loadtxt(\"blosum62.txt\", dtype='i', delimiter=' ')\n",
    "min62 = jnp.min(blosum62)\n",
    "blosum62 = blosum62 - min62\n",
    "avg62 = jnp.sum(blosum62)/len(blosum62)**2\n",
    "sum62 = 0.\n",
    "for row in blosum62:\n",
    "    for aa in row:\n",
    "        sum62 += (aa-avg62)**2\n",
    "std62 = jnp.sqrt(sum62 / len(blosum62)**2)\n",
    "def blosum(seq1, seq2):\n",
    "    seqlist1 = list(seq1)\n",
    "    seqlist2 = list(seq2)\n",
    "    score = 0.\n",
    "    for i in range(len(seqlist1)):\n",
    "        idx1 = AA_list.index(seqlist1[i])\n",
    "        idx2 = AA_list.index(seqlist2[i])\n",
    "        score += blosum62[idx1][idx2]/std62\n",
    "        #jax.nn.sigmoid(score/len(seqlist1))\n",
    "    return score/len(seqlist1)"
   ]
  },
  {
   "cell_type": "code",
   "execution_count": 3,
   "id": "4cac2a4d",
   "metadata": {},
   "outputs": [
    {
     "name": "stdout",
     "output_type": "stream",
     "text": [
      "1.2428473\n"
     ]
    }
   ],
   "source": [
    "target_seq = 'TARGETPEPTIDE'\n",
    "L = len(target_seq)\n",
    "N = 15\n",
    "repeats = 1\n",
    "key = jax.random.PRNGKey(0)\n",
    "print(blosum(target_seq, 'G' * L))"
   ]
  },
  {
   "cell_type": "code",
   "execution_count": 4,
   "id": "cdf420f2",
   "metadata": {},
   "outputs": [
    {
     "name": "stdout",
     "output_type": "stream",
     "text": [
      "0 2.2016153\n"
     ]
    }
   ],
   "source": [
    "start = 'G' * L\n",
    "rand_results = [0 for i in range(N)]\n",
    "for r in range(repeats):\n",
    "    boa.tell(key, start, blosum(target_seq, start))\n",
    "    best = 0\n",
    "\n",
    "    for i in range(N):\n",
    "        s = ''.join(np.random.choice(AA_list[:20], size=(L,)))\n",
    "        y = blosum(s, target_seq)\n",
    "        best = max(y, best)\n",
    "        if best == y:\n",
    "            print(i, best)\n",
    "        rand_results[i] += y\n",
    "rand_results = [r / repeats for r in rand_results]"
   ]
  },
  {
   "cell_type": "code",
   "execution_count": 5,
   "id": "c45cf8f4",
   "metadata": {
    "scrolled": false
   },
   "outputs": [
    {
     "name": "stdout",
     "output_type": "stream",
     "text": [
      "0 1.2428473\n",
      "1 1.3493769\n",
      "2 1.4203968\n",
      "3 1.6689664\n",
      "5 1.6689664\n"
     ]
    }
   ],
   "source": [
    "boa = wazy.MCMCAlgorithm(L)\n",
    "\n",
    "start = 'G' * L\n",
    "mcmc_results = [0 for i in range(N)]\n",
    "for r in range(repeats):\n",
    "    boa.tell(key, start, blosum(target_seq, start))\n",
    "    best = 0\n",
    "\n",
    "    for i in range(N):\n",
    "        key,_ = jax.random.split(key)\n",
    "        s, a = boa.ask(key)\n",
    "        y = blosum(s, target_seq)\n",
    "        best = max(y, best)\n",
    "        boa.tell(key, s, y)\n",
    "        if best == y:\n",
    "            print(i, best)\n",
    "        mcmc_results[i] += y\n",
    "mcmc_results = [r / repeats for r in mcmc_results]"
   ]
  },
  {
   "cell_type": "code",
   "execution_count": 6,
   "id": "9ac51749",
   "metadata": {
    "scrolled": false
   },
   "outputs": [
    {
     "name": "stderr",
     "output_type": "stream",
     "text": [
      "/Users/whitead/miniforge3/envs/alp/lib/python3.9/site-packages/jax/_src/numpy/lax_numpy.py:1939: UserWarning: Explicitly requested dtype float64 requested in zeros is not available, and will be truncated to dtype float32. To enable more dtypes, set the jax_enable_x64 configuration option or the JAX_ENABLE_X64 shell environment variable. See https://github.com/google/jax#current-gotchas for more.\n",
      "  lax_internal._check_user_dtype_supported(dtype, \"zeros\")\n"
     ]
    },
    {
     "name": "stdout",
     "output_type": "stream",
     "text": [
      "0 DEETGILPQHGEG 0.16635673 0.71697116 1.2073374 1.2073374\n",
      "1 NGEGHGATGGGGC 0.3151273 0.705463 1.4559067 1.4559067\n",
      "2 EGGWSGLTGGGGC 0.3176662 0.77049345 0.99427783 1.4559067\n",
      "3 HWNRNGPYTCGGC 0.21391058 0.70192385 1.3138671 1.4559067\n",
      "4 GACGGVLTSWDGP 0.20742269 0.72061914 1.5269268 1.5269268\n",
      "5 YGGGYFLETAEQC 0.22313021 0.7043353 1.5624366 1.5624366\n",
      "6 TERLLDLYGWSGC 0.23618136 0.7423074 1.3138671 1.5624366\n",
      "7 AMEKWTMWGPRMP 0.1212672 0.7202117 1.2783571 1.5624366\n",
      "8 DNGTGGPEHEGPN 0.23690248 0.73243284 1.5979466 1.5979466\n",
      "9 RNQNKGADQIGPC 0.19396403 0.72596264 1.3848871 1.5979466\n",
      "10 HNAKDDVGGLPQF 0.14229819 0.7127397 1.1718274 1.5979466\n",
      "11 DAVTSGGTQFYPW 0.2296536 0.72032154 1.3138671 1.5979466\n",
      "12 NERKKFLGHGCMF 0.25480008 0.7507061 1.3138673 1.5979466\n",
      "13 ATGTGGGYHTCPS 0.21307547 0.7203607 1.4559067 1.5979466\n",
      "14 GVHTGYGEGMYWG 0.19227378 0.7269907 1.3138671 1.5979466\n"
     ]
    }
   ],
   "source": [
    "boa = wazy.BOAlgorithm(model_config=wazy.EnsembleBlockConfig(pretrained=False), \n",
    "                       alg_config=wazy.AlgConfig())\n",
    "\n",
    "start = 'G' * L\n",
    "ohc_results = [0 for i in range(N)]\n",
    "for r in range(repeats):\n",
    "    boa.tell(key, start, blosum(target_seq, start))\n",
    "    best = 0\n",
    "    for i in range(N):\n",
    "        key,_ = jax.random.split(key)\n",
    "        s, a = boa.ask(key)\n",
    "        yhat, std, _ = boa.predict(key, s)\n",
    "        y = blosum(s, target_seq)\n",
    "        best = max(y, best)\n",
    "        boa.tell(key, s, y)\n",
    "        print(i, s, yhat, std, y, best)\n",
    "        ohc_results[i] += y\n",
    "ohc_results = [r / repeats for r in ohc_results]"
   ]
  },
  {
   "cell_type": "code",
   "execution_count": null,
   "id": "199b9992",
   "metadata": {
    "scrolled": true
   },
   "outputs": [
    {
     "name": "stdout",
     "output_type": "stream",
     "text": [
      "0 GYCGQHPGSINGA 0.21212211 0.6940221 1.7399865 1.7399865\n",
      "1 NSGIGSEYEWASF 0.08664542 0.7074663 1.2783573 1.7399865\n",
      "2 GESTRGTDLGAGL 0.14419763 0.7412526 1.2428473 1.7399865\n",
      "3 YDGGGIMGHVEDG 0.10770092 0.7224255 1.5624365 1.7399865\n",
      "4 YDCGAMLCIEEGF 0.28742588 0.71599394 1.1008075 1.7399865\n",
      "5 EACGGDGGKGQKD 0.13477764 0.7422701 1.6334565 1.7399865\n",
      "6 NDCGGQGRGWWIL 0.21228671 0.7329135 1.2428473 1.7399865\n",
      "7 YEPGQGMSGPGGG 0.26128078 0.72771084 1.455907 1.7399865\n"
     ]
    }
   ],
   "source": [
    "boa = wazy.BOAlgorithm(model_config=wazy.EnsembleBlockConfig(pretrained=False), \n",
    "                       alg_config=wazy.AlgConfig())\n",
    "\n",
    "start = 'G' * L\n",
    "ohc_g_results = [0 for i in range(N)]\n",
    "for r in range(repeats):\n",
    "    boa.tell(key, start, blosum(target_seq, start))\n",
    "    best = 0\n",
    "    for i in range(N):\n",
    "        key,_ = jax.random.split(key)\n",
    "        s, a = boa.ask(key, aq_fxn='max')\n",
    "        yhat, std, _ = boa.predict(key, s)\n",
    "        y = blosum(s, target_seq)\n",
    "        best = max(y, best)\n",
    "        boa.tell(key, s, y)\n",
    "        print(i, s, yhat, std, y, best)\n",
    "        ohc_g_results[i] += y\n",
    "ohc_g_results = [r / repeats for r in ohc_g_results]"
   ]
  },
  {
   "cell_type": "code",
   "execution_count": null,
   "id": "55a1f53e",
   "metadata": {},
   "outputs": [],
   "source": [
    "boa = wazy.BOAlgorithm(model_config=wazy.EnsembleBlockConfig(pretrained=True), \n",
    "                       alg_config=wazy.AlgConfig())\n",
    "\n",
    "start = 'A' * L\n",
    "pre_results = [0 for i in range(N)]\n",
    "for r in range(repeats):\n",
    "    boa.tell(key, start, blosum(target_seq, start))\n",
    "    best = 0\n",
    "    for i in range(N):\n",
    "        key,_ = jax.random.split(key)\n",
    "        s, a = boa.ask(key)\n",
    "        yhat, std, epi_std = boa.predict(key, s)\n",
    "        y = blosum(s, target_seq)\n",
    "        best = max(y, best)\n",
    "        boa.tell(key, s, y)\n",
    "        print(i, s, yhat, std, epi_std, y, best)\n",
    "        pre_results[i] += y\n",
    "pre_results = [r / repeats for r in pre_results]"
   ]
  },
  {
   "cell_type": "code",
   "execution_count": null,
   "id": "ac286c94",
   "metadata": {},
   "outputs": [],
   "source": [
    "plt.plot(ohc_g_results, label='OH Greedy')\n",
    "plt.plot(ohc_results, label='OH')\n",
    "plt.plot(mcmc_results, label='MCMC')\n",
    "plt.plot(rand_results, label='Random')\n",
    "plt.legend()\n",
    "plt.show()"
   ]
  },
  {
   "cell_type": "code",
   "execution_count": null,
   "id": "e711763e",
   "metadata": {},
   "outputs": [],
   "source": [
    "def curbest(x):\n",
    "    return [np.max(x[:i]) for i in range(1, len(x) + 1)]\n",
    "plt.plot(curbest(ohc_g_results), label='OH Greedy')\n",
    "plt.plot(curbest(ohc_results), label='OH')\n",
    "plt.plot(curbest(mcmc_results), label='MCMC')\n",
    "plt.plot(curbest(rand_results), label='Random')\n",
    "plt.legend()\n",
    "plt.show()"
   ]
  },
  {
   "cell_type": "code",
   "execution_count": null,
   "id": "757c7f54",
   "metadata": {},
   "outputs": [],
   "source": []
  }
 ],
 "metadata": {
  "kernelspec": {
   "display_name": "Python 3 (ipykernel)",
   "language": "python",
   "name": "python3"
  },
  "language_info": {
   "codemirror_mode": {
    "name": "ipython",
    "version": 3
   },
   "file_extension": ".py",
   "mimetype": "text/x-python",
   "name": "python",
   "nbconvert_exporter": "python",
   "pygments_lexer": "ipython3",
   "version": "3.9.13"
  }
 },
 "nbformat": 4,
 "nbformat_minor": 5
}
