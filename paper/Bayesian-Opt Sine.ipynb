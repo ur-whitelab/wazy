{
 "cells": [
  {
   "cell_type": "code",
   "execution_count": null,
   "metadata": {},
   "outputs": [],
   "source": [
    "import wazy\n",
    "import numpy as np\n",
    "import haiku as hk\n",
    "import jax\n",
    "import jax.numpy as jnp\n",
    "import matplotlib.pyplot as plt\n",
    "from functools import partial\n",
    "from jax.experimental import optimizers\n",
    "import importlib\n",
    "\n",
    "importlib.reload(wazy)"
   ]
  },
  {
   "cell_type": "markdown",
   "metadata": {},
   "source": [
    "### Initialize data"
   ]
  },
  {
   "cell_type": "code",
   "execution_count": null,
   "metadata": {},
   "outputs": [],
   "source": [
    "key = jax.random.PRNGKey(0)\n",
    "x = np.linspace(-2, 2, 1000)\n",
    "reps = np.array([2.0]).reshape(-1, 1)\n",
    "label_fxn = lambda x: np.sin(x * np.pi) - x**2\n",
    "labels = label_fxn(reps)\n",
    "plt.plot(x, label_fxn(x))\n",
    "plt.plot(reps, labels, \"o\")"
   ]
  },
  {
   "cell_type": "code",
   "execution_count": null,
   "metadata": {},
   "outputs": [],
   "source": [
    "config = wazy.EnsembleBlockConfig(shape=(32, 16, 2), model_number=3)\n",
    "aconfig = wazy.AlgConfig(train_epochs=3, bo_epochs=5, bo_batch_size=2)\n",
    "(\n",
    "    model_forward_t,\n",
    "    full_model_forward_t,\n",
    "    seq_model_t,\n",
    "    model_uncertainty_eval_t,\n",
    ") = wazy.build_e2e(config)"
   ]
  },
  {
   "cell_type": "code",
   "execution_count": null,
   "metadata": {},
   "outputs": [],
   "source": [
    "# batch_size = 16\n",
    "def loop(key, reps, params):\n",
    "    labels = label_fxn(reps)\n",
    "    key, key2 = jax.random.split(key)\n",
    "    best_v, *_, params, train_loss, bo_loss = wazy.alg_iter(\n",
    "        key2, reps, labels, full_model_forward_t, model_forward_t, config, aconfig\n",
    "    )\n",
    "    # compute plot\n",
    "    yhat_mu, yhat_std = [], []\n",
    "    eis = []\n",
    "    # TODO: Why we need keys when training False??\n",
    "    plot_forward = partial(model_forward_t.apply, params, training=False)\n",
    "    for xi in x:\n",
    "        v = plot_forward(key, xi[np.newaxis])\n",
    "        yhat_mu.append(float(v[0]))\n",
    "        yhat_std.append(jnp.sqrt(float(v[1])))\n",
    "        ei = -wazy.mlp.neg_bayesian_ei(key, plot_forward, xi[np.newaxis], labels, 1e-1)\n",
    "        eis.append(ei)\n",
    "    # add new label\n",
    "    plt.figure()\n",
    "    plt.plot(x, eis)\n",
    "    plt.title(\"Expected info\")\n",
    "    plt.show()\n",
    "    plt.figure()\n",
    "    plt.plot(train_loss)\n",
    "    plt.title(\"Training Loss\")\n",
    "    plt.show()\n",
    "    plt.figure()\n",
    "    plt.plot(train_loss)\n",
    "    plt.title(\"BO Loss\")\n",
    "    plt.show()\n",
    "    reps = jnp.concatenate((reps, best_v[np.newaxis]))\n",
    "    return key, reps, yhat_mu, yhat_std, best_v, params"
   ]
  },
  {
   "cell_type": "code",
   "execution_count": null,
   "metadata": {},
   "outputs": [],
   "source": [
    "key = jax.random.PRNGKey(0)\n",
    "T = 5\n",
    "\n",
    "yhat_mus = []\n",
    "yhat_stds = []\n",
    "final_vecs = []\n",
    "repss = []\n",
    "params = None\n",
    "for i in range(T):\n",
    "    print(i)\n",
    "    key, reps, yhat_mu, yhat_std, final_vec, params = loop(key, reps, params)\n",
    "    yhat_mus.append(yhat_mu)\n",
    "    yhat_stds.append(yhat_std)\n",
    "    final_vecs.append(final_vec)\n",
    "    repss.append(reps)"
   ]
  },
  {
   "cell_type": "code",
   "execution_count": null,
   "metadata": {},
   "outputs": [],
   "source": [
    "from celluloid import Camera\n",
    "\n",
    "fig = plt.figure()\n",
    "camera = Camera(fig)\n",
    "\n",
    "for i in range(T):\n",
    "    plt.plot(\n",
    "        np.squeeze(repss[i][:-1]), label_fxn(np.squeeze(repss[i][:-1])), \"o\", color=\"C0\"\n",
    "    )\n",
    "    plt.plot(x, yhat_mus[i], color=\"C1\")\n",
    "    plt.xlim(-2, 2)\n",
    "    # print(x.shape)\n",
    "    # print()\n",
    "    print(i)\n",
    "    plt.ylim([-5, 1])\n",
    "    plt.plot(final_vecs[i][0], label_fxn(final_vecs[i][0]), \"*\", color=\"C2\")\n",
    "    plt.plot(x, label_fxn(x), color=\"C3\")\n",
    "    plt.errorbar(x, yhat_mus[i], yerr=yhat_stds[i], color=\"C1\", alpha=0.05)\n",
    "    plt.legend([\"step %d\" % (i)], markerscale=0.1)\n",
    "    plt.title(\"Bayesian Optimization\", fontsize=15)\n",
    "    camera.snap()\n",
    "animation = camera.animate(interval=2000, repeat=True, repeat_delay=500)\n",
    "animation.save(\"BO_newloss.gif\", writer=\"imagemagick\", dpi=180)"
   ]
  }
 ],
 "metadata": {
  "kernelspec": {
   "display_name": "Python 3 (ipykernel)",
   "language": "python",
   "name": "python3"
  },
  "language_info": {
   "codemirror_mode": {
    "name": "ipython",
    "version": 3
   },
   "file_extension": ".py",
   "mimetype": "text/x-python",
   "name": "python",
   "nbconvert_exporter": "python",
   "pygments_lexer": "ipython3",
   "version": "3.9.6"
  }
 },
 "nbformat": 4,
 "nbformat_minor": 4
}
