{
 "cells": [
  {
   "cell_type": "code",
   "execution_count": null,
   "id": "248e7960",
   "metadata": {},
   "outputs": [],
   "source": [
    "import numpy as np\n",
    "import matplotlib.pyplot as plt\n",
    "import jax\n",
    "import jax.numpy as jnp\n",
    "import functools\n",
    "import pickle\n",
    "from operator import add\n",
    "import matplotlib as mpl\n",
    "from wazy.utils import *\n",
    "from wazy.mlp import *\n",
    "from jax_unirep import get_reps\n",
    "import wazy\n",
    "import os"
   ]
  },
  {
   "cell_type": "code",
   "execution_count": null,
   "id": "abdb2989",
   "metadata": {},
   "outputs": [],
   "source": [
    "AA_list = [\n",
    "    \"A\",\n",
    "    \"R\",\n",
    "    \"N\",\n",
    "    \"D\",\n",
    "    \"C\",\n",
    "    \"Q\",\n",
    "    \"E\",\n",
    "    \"G\",\n",
    "    \"H\",\n",
    "    \"I\",\n",
    "    \"L\",\n",
    "    \"K\",\n",
    "    \"M\",\n",
    "    \"F\",\n",
    "    \"P\",\n",
    "    \"S\",\n",
    "    \"T\",\n",
    "    \"W\",\n",
    "    \"Y\",\n",
    "    \"V\",\n",
    "    \"B\",\n",
    "    \"Z\",\n",
    "    \"X\",\n",
    "    \"*\",\n",
    "]\n",
    "blosum92 = np.loadtxt(\"./blosum62.txt\", dtype=\"i\", delimiter=\" \")\n",
    "\n",
    "avg92 = jnp.sum(blosum92) / 24 / 24\n",
    "sum92 = 0.0\n",
    "for row in blosum92:\n",
    "    for aa in row:\n",
    "        sum92 += (aa - avg92) ** 2\n",
    "std92 = jnp.sqrt(sum92 / 24 / 24)\n",
    "\n",
    "\n",
    "def blosum(seq1, seq2):\n",
    "    seqlist1 = list(seq1)\n",
    "    seqlist2 = list(seq2)\n",
    "    score = 0.0\n",
    "    for i in range(len(seqlist1)):\n",
    "        idx1 = AA_list.index(seqlist1[i])\n",
    "        idx2 = AA_list.index(seqlist2[i])\n",
    "        score += (blosum92[idx1][idx2] - avg92) / std92\n",
    "        # jax.nn.sigmoid(score/len(seqlist1))\n",
    "    return score / len(seqlist1)"
   ]
  },
  {
   "cell_type": "code",
   "execution_count": null,
   "id": "b09684d6",
   "metadata": {},
   "outputs": [],
   "source": [
    "seqs = jnp.ones((8, 13, 20))\n",
    "key = jax.random.PRNGKey(0)"
   ]
  },
  {
   "cell_type": "code",
   "execution_count": null,
   "id": "f0e66d51",
   "metadata": {},
   "outputs": [],
   "source": [
    "def func(x):\n",
    "    x = hk.BatchApply(hk.Linear(64), num_dims=1)(x)\n",
    "    x = jax.nn.relu(x)\n",
    "    fwd_core = hk.LSTM(32)\n",
    "    fwd_outs, fwd_state = hk.dynamic_unroll(\n",
    "        fwd_core, x, fwd_core.initial_state(8), reverse=False, time_major=False\n",
    "    )\n",
    "    return fwd_outs\n",
    "\n",
    "\n",
    "tran_func = hk.transform(func)\n",
    "params = tran_func.init(key, seqs)\n",
    "outs = tran_func.apply(params, key, seqs)"
   ]
  },
  {
   "cell_type": "code",
   "execution_count": null,
   "id": "5df42b31",
   "metadata": {},
   "outputs": [],
   "source": [
    "print(outs.shape)"
   ]
  },
  {
   "cell_type": "code",
   "execution_count": null,
   "id": "64749218",
   "metadata": {},
   "outputs": [],
   "source": [
    "target_seq = \"TARGETPEPTIDE\"\n",
    "key = jax.random.PRNGKey(0)\n",
    "c = wazy.EnsembleBlockConfig()\n",
    "# c = wazy.EnsembleBlockConfig(shape=(16,2), model_number=3)\n",
    "forward_t, full_forward_t, seq_t, uncertainty_eval_t = wazy.build_e2e(c)\n",
    "# def gen(k, n): return jax.random.normal(k, shape=(n, 13, 20))\n",
    "train_t = full_forward_t\n",
    "aconfig = AlgConfig()\n",
    "c.shape = (\n",
    "    # 64,\n",
    "    # 32,\n",
    "    16,\n",
    "    2,\n",
    ")\n",
    "c.dropout = 0.2\n",
    "c.model_number = 5\n",
    "aconfig.train_epochs = 30\n",
    "aconfig.bo_epochs = 5"
   ]
  },
  {
   "cell_type": "code",
   "execution_count": null,
   "id": "41e72a51",
   "metadata": {},
   "outputs": [],
   "source": [
    "with open(\"../10kseqs.txt\") as f:\n",
    "    readfile = f.readlines()\n",
    "    random_seqs = f\"{readfile[0]}\".split(\" \")[:-1]\n",
    "\n",
    "\n",
    "def get_blosum_labels(seqs):\n",
    "    labels = []\n",
    "    for seq in seqs:\n",
    "        labels.append(blosum(target_seq, seq))\n",
    "    labels = np.array(labels)\n",
    "\n",
    "    return labels\n",
    "\n",
    "\n",
    "def get_count_labels(seqs):\n",
    "    return get_aanum(seqs)[:, 0]\n",
    "\n",
    "\n",
    "def get_aanum(seqs):\n",
    "    aa_count = []\n",
    "    for seq in seqs:\n",
    "        seq_list = list(seq)\n",
    "        aa_num = [float(seq_list.count(aa)) for aa in AA_list]\n",
    "        aa_count.append(aa_num)\n",
    "    aa_count = jnp.array(aa_count)\n",
    "    return aa_count\n",
    "\n",
    "\n",
    "def get_flat_ohc(seqs):\n",
    "    return jnp.array([encode_seq(list(s)).flatten() for s in seqs])\n",
    "\n",
    "\n",
    "def get_ohc(seqs):\n",
    "    return jnp.array([encode_seq(list(s)) for s in seqs])\n",
    "\n",
    "\n",
    "batch_size = 8\n",
    "\n",
    "\n",
    "def get_results(key, params, rep_list):\n",
    "    means = []\n",
    "    stds = []\n",
    "    # need batch\n",
    "    for i in range(0, len(rep_list) // batch_size):\n",
    "        # for rep in rep_list:\n",
    "        batch_reps = rep_list[i * batch_size : (i + 1) * batch_size]\n",
    "        yhat = forward_t.apply(params, key, batch_reps)\n",
    "        # print(yhat.shape)\n",
    "        means.append(yhat[0])\n",
    "        stds.append(yhat[1])\n",
    "    return np.array(means), np.array(stds)\n",
    "\n",
    "\n",
    "def get_single_results(key, params, rep_list):\n",
    "    yhats = []\n",
    "    for i in range(0, len(rep_list) // batch_size):\n",
    "        # need batch\n",
    "        # for rep in rep_list:\n",
    "        batch_reps = rep_list[i * batch_size : (i + 1) * batch_size]\n",
    "        yhat = naive_forward_t.apply(params, key, batch_reps)\n",
    "        yhats.append(yhat)\n",
    "    return np.array(yhats)"
   ]
  },
  {
   "cell_type": "code",
   "execution_count": null,
   "id": "84ddbf3e",
   "metadata": {},
   "outputs": [],
   "source": [
    "def parity_plot(yhat, test_y, std):\n",
    "    plt.scatter(test_y, yhat, c=\"lightskyblue\", alpha=0.3)\n",
    "    plt.errorbar(test_y, yhat, yerr=std, fmt=\"None\", alpha=0.3)\n",
    "    plt.plot([-0.5, 1.0], [-0.5, 1.0], color=\"lightsalmon\", linewidth=2)\n",
    "    plt.title(\"Parity Plot\")\n",
    "    plt.xlim([-0.5, 1.0])\n",
    "    plt.ylim([-0.5, 1.0])\n",
    "    plt.xlabel(\"Ground truth\")\n",
    "    plt.ylabel(\"Predictions\")\n",
    "    plt.text(\n",
    "        min(test_y) + 0.1,\n",
    "        max(test_y) - 0.2,\n",
    "        f\"correlation = {np.corrcoef(test_y, yhat)[0,1]:.3f}\",\n",
    "    )\n",
    "    plt.text(\n",
    "        min(test_y) + 0.1,\n",
    "        max(test_y) - 0.3,\n",
    "        f\"loss = {np.sqrt(np.mean((test_y - yhat)**2)):.3f}\",\n",
    "    )\n",
    "    plt.grid()\n",
    "    return plt"
   ]
  },
  {
   "cell_type": "code",
   "execution_count": null,
   "id": "611f55b6",
   "metadata": {},
   "outputs": [],
   "source": [
    "validation_seqs = [random.choice(random_seqs) for i in range(50)]\n",
    "validation_ohc = get_ohc(validation_seqs)\n",
    "validation_labels = get_blosum_labels(validation_seqs)\n",
    "test_seqs = [random.choice(random_seqs) for i in range(500)]\n",
    "test_ohc = get_ohc(test_seqs)\n",
    "test_labels = get_blosum_labels(test_seqs)\n",
    "train_seqs = [random.choice(random_seqs) for i in range(100)]\n",
    "train_ohc = get_ohc(train_seqs)\n",
    "train_labels = get_blosum_labels(train_seqs)"
   ]
  },
  {
   "cell_type": "code",
   "execution_count": null,
   "id": "34e92ec9",
   "metadata": {},
   "outputs": [],
   "source": [
    "train_reps = get_reps(train_seqs)[0]\n",
    "test_reps = get_reps(test_seqs)[0]"
   ]
  },
  {
   "cell_type": "code",
   "execution_count": null,
   "id": "5b516e13",
   "metadata": {},
   "outputs": [],
   "source": [
    "params, train_loss = ensemble_train(\n",
    "    key, train_t, c, train_reps, train_labels, aconfig=aconfig\n",
    ")"
   ]
  },
  {
   "cell_type": "code",
   "execution_count": null,
   "id": "4d182b6d",
   "metadata": {},
   "outputs": [],
   "source": [
    "plt.figure()\n",
    "plt.plot(train_loss, label=\"train loss\")\n",
    "plt.title(\"Loss\")\n",
    "plt.legend()\n",
    "plt.xlabel(\"epochs\")"
   ]
  },
  {
   "cell_type": "code",
   "execution_count": null,
   "id": "631b9206",
   "metadata": {},
   "outputs": [],
   "source": [
    "y_pred, y_std = get_results(key, params, test_reps)\n",
    "train_y_pred, train_y_std = get_results(key, params, train_reps)"
   ]
  },
  {
   "cell_type": "code",
   "execution_count": null,
   "id": "0c49feb6",
   "metadata": {},
   "outputs": [],
   "source": [
    "train_reps.shape"
   ]
  },
  {
   "cell_type": "code",
   "execution_count": null,
   "id": "f5023893",
   "metadata": {},
   "outputs": [],
   "source": [
    "y_pred = y_pred.flatten()\n",
    "y_std = y_std.flatten()\n",
    "parity_plot(y_pred, test_labels[: len(y_pred)], y_std)"
   ]
  },
  {
   "cell_type": "code",
   "execution_count": null,
   "id": "c26834bd",
   "metadata": {},
   "outputs": [],
   "source": [
    "train_y_pred = train_y_pred.flatten()\n",
    "train_y_std = train_y_std.flatten()\n",
    "parity_plot(train_y_pred, train_labels[: len(train_y_pred)], train_y_std)"
   ]
  },
  {
   "cell_type": "code",
   "execution_count": null,
   "id": "236625ac",
   "metadata": {},
   "outputs": [],
   "source": []
  }
 ],
 "metadata": {
  "kernelspec": {
   "display_name": "Python 3",
   "language": "python",
   "name": "python3"
  },
  "language_info": {
   "codemirror_mode": {
    "name": "ipython",
    "version": 3
   },
   "file_extension": ".py",
   "mimetype": "text/x-python",
   "name": "python",
   "nbconvert_exporter": "python",
   "pygments_lexer": "ipython3",
   "version": "3.8.11"
  }
 },
 "nbformat": 4,
 "nbformat_minor": 5
}
