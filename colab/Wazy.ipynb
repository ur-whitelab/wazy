{
 "cells": [
  {
   "cell_type": "markdown",
   "metadata": {
    "id": "PO83H0zEt2vG"
   },
   "source": [
    "# Wazy\n",
    "\n",
    "This is a method for optimizing sequences for a numeric task, like quantitative activity or solubility. Wazy uses Bayesian Optimization to propose which new sequences should be tried. The method is designed for when you have few (1-100) starting sequences and want to know which additional sequences to try in order to find the best. See the [paper](https://www.biorxiv.org/content/10.1101/2022.08.05.502972v1) and the [code](https://github.com/ur-whitelab/wazy) for complete details on how the algorithm works.\n",
    "\n",
    "Instructions:\n",
    "\n",
    "1. Provide at least one example of a sequence and its numeric label (e.g., activity)\n",
    "2. You can then use `predict` to get a prediction for an unknown sequence or `ask` to find out which sequence you should try next.\n",
    "\n",
    "Credit:\n",
    "\n",
    "* This doc authored by [@andrewwhite01](https://twitter.com/andrewwhite01)\n",
    "* Wazy authored by [@andrewwhite01](https://twitter.com/andrewwhite01) and [@ZiyueYang37](https://twitter.com/ZiyueYang37)"
   ]
  },
  {
   "cell_type": "code",
   "execution_count": null,
   "metadata": {
    "cellView": "form",
    "id": "Qwm8Juv8Ny7g"
   },
   "outputs": [],
   "source": [
    "# @title Install Dependencies and Set Seed\n",
    "# @markdown Changing the seed makes random outcomes change in this spreadsheet. You can leave as 0, or change if you want the proposed sequences to be different\n",
    "seed = 0  # @param {type:\"integer\"}\n",
    "!pip install -q wazy pandas odfpy openpyxl xlrd\n",
    "import wazy\n",
    "import jax\n",
    "import numpy as np\n",
    "import functools\n",
    "\n",
    "np.random.seed(seed)\n",
    "key = jax.random.PRNGKey(seed)"
   ]
  },
  {
   "cell_type": "code",
   "execution_count": null,
   "metadata": {
    "cellView": "form",
    "id": "q-JOzn1HN4gr"
   },
   "outputs": [],
   "source": [
    "# @title Option A: Type out results\n",
    "# @markdown Double click this cell (or click \"Show Code\") and follow the example to type out sequence/labels\n",
    "boa = wazy.BOAlgorithm()\n",
    "# Example\n",
    "boa.tell(key, \"SEQ\", label=4)"
   ]
  },
  {
   "cell_type": "code",
   "execution_count": null,
   "metadata": {
    "cellView": "form",
    "id": "Eyqsny2Vsqkr"
   },
   "outputs": [],
   "source": [
    "# @title Option B: Upload Spreadsheet\n",
    "# @markdown csv, xls, xlsx, xlsm, xlsb, odf, ods and odt supported. First column should be sequence, second numeric label\n",
    "from google.colab import files\n",
    "import pandas as pd\n",
    "\n",
    "uploaded = files.upload()\n",
    "# @markdown *Check the header box if there is a header row in your file*\n",
    "header = False  # @param {type:\"boolean\"}\n",
    "if header:\n",
    "    header = 0\n",
    "else:\n",
    "    header = None\n",
    "\n",
    "for fn in uploaded.keys():\n",
    "    if \".csv\" in fn:\n",
    "        data = pd.read_csv(fn, header=header)\n",
    "    else:\n",
    "        data = pd.read_excel(fn, header=header)\n",
    "print(\"Loaded:\")\n",
    "boa = wazy.BOAlgorithm()\n",
    "for i in range(data.shape[0]):\n",
    "    seq, label = data.iloc[i, 0], data.iloc[i, 1]\n",
    "    seq = str(seq)\n",
    "    label = float(label)\n",
    "    if i < 10:\n",
    "        print(seq, label)\n",
    "    elif i == 10:\n",
    "        print(\"...\")\n",
    "    boa.tell(key, seq, label)"
   ]
  },
  {
   "cell_type": "code",
   "execution_count": null,
   "metadata": {
    "cellView": "form",
    "id": "ec0Z8Tn41VZN"
   },
   "outputs": [],
   "source": [
    "# @title Predict\n",
    "seq = \"TEST\"  # @param {type:\"string\"}\n",
    "l, v, _ = boa.predict(key, seq)\n",
    "print(f\"Predicted label for {seq} is {l:.2f} ± {v:.2f}\")"
   ]
  },
  {
   "cell_type": "code",
   "execution_count": null,
   "metadata": {
    "cellView": "form",
    "id": "v6wgT5ZoN6Lh"
   },
   "outputs": [],
   "source": [
    "# @title Ask\n",
    "# @markdown These sequences balance gathering more information and being optimal. If you just want the best predicted sequences, choose \"best\" from dropdown.\n",
    "acquisition_fxn = \"bo-ucb\"  # @param [\"bo-ucb\", \"best\", \"bo-ei\"]\n",
    "seq_length = 10  # @param {type:\"slider\", min:0, max:100, step:1}\n",
    "num_sequences = 3  # @param {type:\"slider\", min:1, max:100, step:1}\n",
    "taf = {\"bo-ucb\": \"ucb\", \"best\": \"max\", \"bo-ei\": \"ei\"}\n",
    "batch_s = 1\n",
    "if num_sequences > 10:\n",
    "    _num_sequences = max(4, num_sequences // boa.aconfig.bo_batch_size)\n",
    "    while _num_sequences * batch_s < num_sequences:\n",
    "        batch_s += 1\n",
    "    num_sequences = _num_sequences\n",
    "key = jax.random.split(key)[0]\n",
    "if num_sequences == 1:\n",
    "    result, score = boa.ask(\n",
    "        key, length=seq_length, return_seqs=batch_s, aq_fxn=taf[acquisition_fxn]\n",
    "    )\n",
    "    print(result)\n",
    "else:\n",
    "    result, score = boa.batch_ask(\n",
    "        key,\n",
    "        num_sequences,\n",
    "        lengths=[seq_length] * num_sequences,\n",
    "        return_seqs=batch_s,\n",
    "        aq_fxn=taf[acquisition_fxn],\n",
    "    )\n",
    "    for i, r in enumerate(result):\n",
    "        print(r)"
   ]
  },
  {
   "cell_type": "markdown",
   "metadata": {
    "id": "Hj5ijCOE_R0a"
   },
   "source": [
    "As you gather more results, just re-run everything! If you have a problem, [share your issue here](https://github.com/ur-whitelab/wazy/issues/new)"
   ]
  }
 ],
 "metadata": {
  "accelerator": "GPU",
  "colab": {
   "collapsed_sections": [],
   "name": "Wazy",
   "provenance": []
  },
  "gpuClass": "standard",
  "kernelspec": {
   "display_name": "Python 3",
   "name": "python3"
  },
  "language_info": {
   "name": "python"
  }
 },
 "nbformat": 4,
 "nbformat_minor": 0
}
